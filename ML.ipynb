{
  "nbformat": 4,
  "nbformat_minor": 0,
  "metadata": {
    "colab": {
      "provenance": [],
      "authorship_tag": "ABX9TyM8Y8t31oZpE5le3L+pcay6",
      "include_colab_link": true
    },
    "kernelspec": {
      "name": "python3",
      "display_name": "Python 3"
    },
    "language_info": {
      "name": "python"
    }
  },
  "cells": [
    {
      "cell_type": "markdown",
      "metadata": {
        "id": "view-in-github",
        "colab_type": "text"
      },
      "source": [
        "<a href=\"https://colab.research.google.com/github/V4T5AV/ML/blob/main/ML.ipynb\" target=\"_parent\"><img src=\"https://colab.research.google.com/assets/colab-badge.svg\" alt=\"Open In Colab\"/></a>"
      ]
    },
    {
      "cell_type": "code",
      "execution_count": 2,
      "metadata": {
        "id": "7Or9xMV_9QUk",
        "colab": {
          "base_uri": "https://localhost:8080/"
        },
        "outputId": "887c479e-d2c2-4fbf-9267-8f29ed391ae2"
      },
      "outputs": [
        {
          "output_type": "stream",
          "name": "stdout",
          "text": [
            "Accuracy: 1.00\n"
          ]
        }
      ],
      "source": [
        "from sklearn import datasets\n",
        "from sklearn.model_selection import train_test_split\n",
        "from sklearn.ensemble import RandomForestClassifier\n",
        "from sklearn.metrics import accuracy_score\n",
        "\n",
        "# Load dataset\n",
        "iris = datasets.load_iris()\n",
        "X = iris.data\n",
        "y = iris.target\n",
        "\n",
        "# Split dataset into training and testing sets\n",
        "X_train, X_test, y_train, y_test = train_test_split(X, y, test_size=0.3, random_state=42)\n",
        "\n",
        "# Create and train the model\n",
        "clf = RandomForestClassifier(n_estimators=100)\n",
        "clf.fit(X_train, y_train)\n",
        "\n",
        "# Make predictions\n",
        "y_pred = clf.predict(X_test)\n",
        "\n",
        "# Evaluate the model\n",
        "accuracy = accuracy_score(y_test, y_pred)\n",
        "print(f\"Accuracy: {accuracy:.2f}\")\n"
      ]
    },
    {
      "cell_type": "code",
      "source": [
        "#1\n",
        "import pandas as pd\n",
        "df = pd.read_csv(\"https://raw.githubusercontent.com/uiuc-cse/data-fa14/gh-pages/data/iris.csv\")       #to load the data from the iris dataset\n",
        "print(\"Shape:\", df.shape)\n",
        "print(\"Type:\", type(df))\n",
        "print(\"First 3 rows:\\n\", df.head(3))"
      ],
      "metadata": {
        "id": "YyLZklYD-xNQ",
        "outputId": "84bc5296-cefd-4c0e-ff11-9e3d19e57650",
        "colab": {
          "base_uri": "https://localhost:8080/"
        }
      },
      "execution_count": 6,
      "outputs": [
        {
          "output_type": "stream",
          "name": "stdout",
          "text": [
            "Shape: (150, 5)\n",
            "Type: <class 'pandas.core.frame.DataFrame'>\n",
            "First 3 rows:\n",
            "    sepal_length  sepal_width  petal_length  petal_width species\n",
            "0           5.1          3.5           1.4          0.2  setosa\n",
            "1           4.9          3.0           1.4          0.2  setosa\n",
            "2           4.7          3.2           1.3          0.2  setosa\n"
          ]
        }
      ]
    },
    {
      "cell_type": "code",
      "source": [
        "#2\n",
        "from sklearn.datasets import load_iris\n",
        "\n",
        "iris = load_iris()\n",
        "\n",
        "# Keys\n",
        "print(\"Keys:\", iris.keys())\n",
        "\n",
        "# Shape of data\n",
        "print(\"Shape:\", iris.data.shape)\n",
        "\n",
        "# Feature names\n",
        "print(\"Feature names:\", iris.feature_names)\n",
        "\n",
        "# Description\n",
        "print(\"Description:\\n\", iris.DESCR[:500])  # Print first 500 chars for readability\n"
      ],
      "metadata": {
        "id": "6f_aIvi0C0Uf",
        "outputId": "6266d86a-0bc9-4846-f8c9-ffc1162dbec9",
        "colab": {
          "base_uri": "https://localhost:8080/"
        }
      },
      "execution_count": 7,
      "outputs": [
        {
          "output_type": "stream",
          "name": "stdout",
          "text": [
            "Keys: dict_keys(['data', 'target', 'frame', 'target_names', 'DESCR', 'feature_names', 'filename', 'data_module'])\n",
            "Shape: (150, 4)\n",
            "Feature names: ['sepal length (cm)', 'sepal width (cm)', 'petal length (cm)', 'petal width (cm)']\n",
            "Description:\n",
            " .. _iris_dataset:\n",
            "\n",
            "Iris plants dataset\n",
            "--------------------\n",
            "\n",
            "**Data Set Characteristics:**\n",
            "\n",
            ":Number of Instances: 150 (50 in each of three classes)\n",
            ":Number of Attributes: 4 numeric, predictive attributes and the class\n",
            ":Attribute Information:\n",
            "    - sepal length in cm\n",
            "    - sepal width in cm\n",
            "    - petal length in cm\n",
            "    - petal width in cm\n",
            "    - class:\n",
            "            - Iris-Setosa\n",
            "            - Iris-Versicolour\n",
            "            - Iris-Virginica\n",
            "\n",
            ":Summary Statistics:\n",
            "\n",
            "============== ==== ==== ======= =====\n"
          ]
        }
      ]
    },
    {
      "cell_type": "code",
      "source": [
        "#3\n",
        "# Number of observations (rows)\n",
        "print(\"Number of observations:\", df.shape[0])\n",
        "\n",
        "# Missing values in each column\n",
        "print(\"Missing values per column:\\n\", df.isnull().sum())\n",
        "\n",
        "# Total NaN values in dataset\n",
        "print(\"Total NaN values:\", df.isnull().sum().sum())\n"
      ],
      "metadata": {
        "id": "OrXONYZiEf_O",
        "outputId": "d1f8824b-854c-49f7-c345-ad4536b8f016",
        "colab": {
          "base_uri": "https://localhost:8080/"
        }
      },
      "execution_count": 8,
      "outputs": [
        {
          "output_type": "stream",
          "name": "stdout",
          "text": [
            "Number of observations: 150\n",
            "Missing values per column:\n",
            " sepal_length    0\n",
            "sepal_width     0\n",
            "petal_length    0\n",
            "petal_width     0\n",
            "species         0\n",
            "dtype: int64\n",
            "Total NaN values: 0\n"
          ]
        }
      ]
    },
    {
      "cell_type": "code",
      "source": [
        "#4\n",
        "print(\"Statistical Summary:\\n\", df.describe())\n"
      ],
      "metadata": {
        "id": "moz6kVVUEicV",
        "outputId": "fec2d3d9-b260-4a79-ffc2-a9ebe56c472c",
        "colab": {
          "base_uri": "https://localhost:8080/"
        }
      },
      "execution_count": 9,
      "outputs": [
        {
          "output_type": "stream",
          "name": "stdout",
          "text": [
            "Statistical Summary:\n",
            "        sepal_length  sepal_width  petal_length  petal_width\n",
            "count    150.000000   150.000000    150.000000   150.000000\n",
            "mean       5.843333     3.054000      3.758667     1.198667\n",
            "std        0.828066     0.433594      1.764420     0.763161\n",
            "min        4.300000     2.000000      1.000000     0.100000\n",
            "25%        5.100000     2.800000      1.600000     0.300000\n",
            "50%        5.800000     3.000000      4.350000     1.300000\n",
            "75%        6.400000     3.300000      5.100000     1.800000\n",
            "max        7.900000     4.400000      6.900000     2.500000\n"
          ]
        }
      ]
    },
    {
      "cell_type": "code",
      "source": [
        "#5\n",
        "# Get only setosa rows\n",
        "setosa = df[df['species'] == 'setosa']\n",
        "print(\"Setosa:\\n\", setosa.head())\n",
        "\n",
        "# Get only versicolor\n",
        "versicolor = df[df['species'] == 'versicolor']\n",
        "print(\"Versicolor:\\n\", versicolor.head())\n",
        "\n",
        "# Get only virginica\n",
        "virginica = df[df['species'] == 'virginica']\n",
        "print(\"Virginica:\\n\", virginica.head())\n"
      ],
      "metadata": {
        "id": "G3ntV3pgEmSd",
        "outputId": "a1b3edb6-b043-4049-c182-4190de033c9f",
        "colab": {
          "base_uri": "https://localhost:8080/"
        }
      },
      "execution_count": 10,
      "outputs": [
        {
          "output_type": "stream",
          "name": "stdout",
          "text": [
            "Setosa:\n",
            "    sepal_length  sepal_width  petal_length  petal_width species\n",
            "0           5.1          3.5           1.4          0.2  setosa\n",
            "1           4.9          3.0           1.4          0.2  setosa\n",
            "2           4.7          3.2           1.3          0.2  setosa\n",
            "3           4.6          3.1           1.5          0.2  setosa\n",
            "4           5.0          3.6           1.4          0.2  setosa\n",
            "Versicolor:\n",
            "     sepal_length  sepal_width  petal_length  petal_width     species\n",
            "50           7.0          3.2           4.7          1.4  versicolor\n",
            "51           6.4          3.2           4.5          1.5  versicolor\n",
            "52           6.9          3.1           4.9          1.5  versicolor\n",
            "53           5.5          2.3           4.0          1.3  versicolor\n",
            "54           6.5          2.8           4.6          1.5  versicolor\n",
            "Virginica:\n",
            "      sepal_length  sepal_width  petal_length  petal_width    species\n",
            "100           6.3          3.3           6.0          2.5  virginica\n",
            "101           5.8          2.7           5.1          1.9  virginica\n",
            "102           7.1          3.0           5.9          2.1  virginica\n",
            "103           6.3          2.9           5.6          1.8  virginica\n",
            "104           6.5          3.0           5.8          2.2  virginica\n"
          ]
        }
      ]
    }
  ]
}